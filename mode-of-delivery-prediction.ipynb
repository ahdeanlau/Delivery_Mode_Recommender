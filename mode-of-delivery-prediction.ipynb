{
  "cells": [
    {
      "cell_type": "code",
      "execution_count": null,
      "metadata": {
        "scrolled": true,
        "id": "2wMRcNJ056n2"
      },
      "outputs": [],
      "source": [
        "import pandas as pd\n",
        "import numpy as np\n",
        "from sklearn.model_selection import train_test_split\n",
        "from sklearn.preprocessing import StandardScaler\n",
        "from sklearn.metrics import accuracy_score, precision_score, recall_score, f1_score, classification_report\n",
        "\n",
        "import tensorflow as tf\n",
        "from tensorflow.keras.models import Sequential\n",
        "from tensorflow.keras.layers import Dense, Dropout\n",
        "\n",
        "from sklearn.model_selection import GridSearchCV\n",
        "from sklearn.model_selection import PredefinedSplit"
      ]
    },
    {
      "cell_type": "code",
      "execution_count": null,
      "metadata": {
        "id": "a3JK42w056n6",
        "colab": {
          "base_uri": "https://localhost:8080/"
        },
        "outputId": "5f7dc34a-ebbe-461c-d2f0-96b65e48e2b5"
      },
      "outputs": [
        {
          "output_type": "execute_result",
          "data": {
            "text/plain": [
              "(1935, 13)"
            ]
          },
          "metadata": {},
          "execution_count": 34
        }
      ],
      "source": [
        "# read csv file of dataset_mod\n",
        "\n",
        "data = pd.read_csv(\"dataset_mod.csv\")\n",
        "data.shape"
      ]
    },
    {
      "cell_type": "code",
      "execution_count": null,
      "metadata": {
        "id": "q1zX8GxB56n7",
        "outputId": "89c8ae4d-669b-4420-d175-12fd53f75def",
        "colab": {
          "base_uri": "https://localhost:8080/",
          "height": 364
        }
      },
      "outputs": [
        {
          "output_type": "execute_result",
          "data": {
            "text/plain": [
              "           mum_age   mum_height  presentation_breech  presentation_cephalic  \\\n",
              "count  1935.000000  1935.000000          1935.000000            1935.000000   \n",
              "mean     34.366247   157.193075             0.165375               0.748837   \n",
              "std       3.821538     5.650977             0.371614               0.433794   \n",
              "min      23.009370   139.000000             0.000000               0.000000   \n",
              "25%      31.525630   153.000000             0.000000               0.000000   \n",
              "50%      34.174555   157.000000             0.000000               1.000000   \n",
              "75%      37.052096   160.000000             0.000000               1.000000   \n",
              "max      46.243249   175.000000             1.000000               1.000000   \n",
              "\n",
              "       presentation_other  placenta_site_previa  amniotic_anhydramnios  \\\n",
              "count         1935.000000           1935.000000            1935.000000   \n",
              "mean             0.085788              0.016537               0.003618   \n",
              "std              0.280123              0.127563               0.060053   \n",
              "min              0.000000              0.000000               0.000000   \n",
              "25%              0.000000              0.000000               0.000000   \n",
              "50%              0.000000              0.000000               0.000000   \n",
              "75%              0.000000              0.000000               0.000000   \n",
              "max              1.000000              1.000000               1.000000   \n",
              "\n",
              "       amniotic_normal  hypertension_nil  hypertension_pih  diabetes_gdm  \\\n",
              "count      1935.000000       1935.000000       1935.000000   1935.000000   \n",
              "mean          0.913695          0.894057          0.078553      0.375194   \n",
              "std           0.280886          0.307844          0.269109      0.484298   \n",
              "min           0.000000          0.000000          0.000000      0.000000   \n",
              "25%           1.000000          1.000000          0.000000      0.000000   \n",
              "50%           1.000000          1.000000          0.000000      0.000000   \n",
              "75%           1.000000          1.000000          0.000000      1.000000   \n",
              "max           1.000000          1.000000          1.000000      1.000000   \n",
              "\n",
              "       diabetes_nil  delivery_mode  \n",
              "count   1935.000000    1935.000000  \n",
              "mean       0.596382       0.480620  \n",
              "std        0.490749       0.566664  \n",
              "min        0.000000       0.000000  \n",
              "25%        0.000000       0.000000  \n",
              "50%        1.000000       0.000000  \n",
              "75%        1.000000       1.000000  \n",
              "max        1.000000       2.000000  "
            ],
            "text/html": [
              "\n",
              "  <div id=\"df-f6a26ec1-0136-4de9-b188-42340145f8f5\">\n",
              "    <div class=\"colab-df-container\">\n",
              "      <div>\n",
              "<style scoped>\n",
              "    .dataframe tbody tr th:only-of-type {\n",
              "        vertical-align: middle;\n",
              "    }\n",
              "\n",
              "    .dataframe tbody tr th {\n",
              "        vertical-align: top;\n",
              "    }\n",
              "\n",
              "    .dataframe thead th {\n",
              "        text-align: right;\n",
              "    }\n",
              "</style>\n",
              "<table border=\"1\" class=\"dataframe\">\n",
              "  <thead>\n",
              "    <tr style=\"text-align: right;\">\n",
              "      <th></th>\n",
              "      <th>mum_age</th>\n",
              "      <th>mum_height</th>\n",
              "      <th>presentation_breech</th>\n",
              "      <th>presentation_cephalic</th>\n",
              "      <th>presentation_other</th>\n",
              "      <th>placenta_site_previa</th>\n",
              "      <th>amniotic_anhydramnios</th>\n",
              "      <th>amniotic_normal</th>\n",
              "      <th>hypertension_nil</th>\n",
              "      <th>hypertension_pih</th>\n",
              "      <th>diabetes_gdm</th>\n",
              "      <th>diabetes_nil</th>\n",
              "      <th>delivery_mode</th>\n",
              "    </tr>\n",
              "  </thead>\n",
              "  <tbody>\n",
              "    <tr>\n",
              "      <th>count</th>\n",
              "      <td>1935.000000</td>\n",
              "      <td>1935.000000</td>\n",
              "      <td>1935.000000</td>\n",
              "      <td>1935.000000</td>\n",
              "      <td>1935.000000</td>\n",
              "      <td>1935.000000</td>\n",
              "      <td>1935.000000</td>\n",
              "      <td>1935.000000</td>\n",
              "      <td>1935.000000</td>\n",
              "      <td>1935.000000</td>\n",
              "      <td>1935.000000</td>\n",
              "      <td>1935.000000</td>\n",
              "      <td>1935.000000</td>\n",
              "    </tr>\n",
              "    <tr>\n",
              "      <th>mean</th>\n",
              "      <td>34.366247</td>\n",
              "      <td>157.193075</td>\n",
              "      <td>0.165375</td>\n",
              "      <td>0.748837</td>\n",
              "      <td>0.085788</td>\n",
              "      <td>0.016537</td>\n",
              "      <td>0.003618</td>\n",
              "      <td>0.913695</td>\n",
              "      <td>0.894057</td>\n",
              "      <td>0.078553</td>\n",
              "      <td>0.375194</td>\n",
              "      <td>0.596382</td>\n",
              "      <td>0.480620</td>\n",
              "    </tr>\n",
              "    <tr>\n",
              "      <th>std</th>\n",
              "      <td>3.821538</td>\n",
              "      <td>5.650977</td>\n",
              "      <td>0.371614</td>\n",
              "      <td>0.433794</td>\n",
              "      <td>0.280123</td>\n",
              "      <td>0.127563</td>\n",
              "      <td>0.060053</td>\n",
              "      <td>0.280886</td>\n",
              "      <td>0.307844</td>\n",
              "      <td>0.269109</td>\n",
              "      <td>0.484298</td>\n",
              "      <td>0.490749</td>\n",
              "      <td>0.566664</td>\n",
              "    </tr>\n",
              "    <tr>\n",
              "      <th>min</th>\n",
              "      <td>23.009370</td>\n",
              "      <td>139.000000</td>\n",
              "      <td>0.000000</td>\n",
              "      <td>0.000000</td>\n",
              "      <td>0.000000</td>\n",
              "      <td>0.000000</td>\n",
              "      <td>0.000000</td>\n",
              "      <td>0.000000</td>\n",
              "      <td>0.000000</td>\n",
              "      <td>0.000000</td>\n",
              "      <td>0.000000</td>\n",
              "      <td>0.000000</td>\n",
              "      <td>0.000000</td>\n",
              "    </tr>\n",
              "    <tr>\n",
              "      <th>25%</th>\n",
              "      <td>31.525630</td>\n",
              "      <td>153.000000</td>\n",
              "      <td>0.000000</td>\n",
              "      <td>0.000000</td>\n",
              "      <td>0.000000</td>\n",
              "      <td>0.000000</td>\n",
              "      <td>0.000000</td>\n",
              "      <td>1.000000</td>\n",
              "      <td>1.000000</td>\n",
              "      <td>0.000000</td>\n",
              "      <td>0.000000</td>\n",
              "      <td>0.000000</td>\n",
              "      <td>0.000000</td>\n",
              "    </tr>\n",
              "    <tr>\n",
              "      <th>50%</th>\n",
              "      <td>34.174555</td>\n",
              "      <td>157.000000</td>\n",
              "      <td>0.000000</td>\n",
              "      <td>1.000000</td>\n",
              "      <td>0.000000</td>\n",
              "      <td>0.000000</td>\n",
              "      <td>0.000000</td>\n",
              "      <td>1.000000</td>\n",
              "      <td>1.000000</td>\n",
              "      <td>0.000000</td>\n",
              "      <td>0.000000</td>\n",
              "      <td>1.000000</td>\n",
              "      <td>0.000000</td>\n",
              "    </tr>\n",
              "    <tr>\n",
              "      <th>75%</th>\n",
              "      <td>37.052096</td>\n",
              "      <td>160.000000</td>\n",
              "      <td>0.000000</td>\n",
              "      <td>1.000000</td>\n",
              "      <td>0.000000</td>\n",
              "      <td>0.000000</td>\n",
              "      <td>0.000000</td>\n",
              "      <td>1.000000</td>\n",
              "      <td>1.000000</td>\n",
              "      <td>0.000000</td>\n",
              "      <td>1.000000</td>\n",
              "      <td>1.000000</td>\n",
              "      <td>1.000000</td>\n",
              "    </tr>\n",
              "    <tr>\n",
              "      <th>max</th>\n",
              "      <td>46.243249</td>\n",
              "      <td>175.000000</td>\n",
              "      <td>1.000000</td>\n",
              "      <td>1.000000</td>\n",
              "      <td>1.000000</td>\n",
              "      <td>1.000000</td>\n",
              "      <td>1.000000</td>\n",
              "      <td>1.000000</td>\n",
              "      <td>1.000000</td>\n",
              "      <td>1.000000</td>\n",
              "      <td>1.000000</td>\n",
              "      <td>1.000000</td>\n",
              "      <td>2.000000</td>\n",
              "    </tr>\n",
              "  </tbody>\n",
              "</table>\n",
              "</div>\n",
              "      <button class=\"colab-df-convert\" onclick=\"convertToInteractive('df-f6a26ec1-0136-4de9-b188-42340145f8f5')\"\n",
              "              title=\"Convert this dataframe to an interactive table.\"\n",
              "              style=\"display:none;\">\n",
              "        \n",
              "  <svg xmlns=\"http://www.w3.org/2000/svg\" height=\"24px\"viewBox=\"0 0 24 24\"\n",
              "       width=\"24px\">\n",
              "    <path d=\"M0 0h24v24H0V0z\" fill=\"none\"/>\n",
              "    <path d=\"M18.56 5.44l.94 2.06.94-2.06 2.06-.94-2.06-.94-.94-2.06-.94 2.06-2.06.94zm-11 1L8.5 8.5l.94-2.06 2.06-.94-2.06-.94L8.5 2.5l-.94 2.06-2.06.94zm10 10l.94 2.06.94-2.06 2.06-.94-2.06-.94-.94-2.06-.94 2.06-2.06.94z\"/><path d=\"M17.41 7.96l-1.37-1.37c-.4-.4-.92-.59-1.43-.59-.52 0-1.04.2-1.43.59L10.3 9.45l-7.72 7.72c-.78.78-.78 2.05 0 2.83L4 21.41c.39.39.9.59 1.41.59.51 0 1.02-.2 1.41-.59l7.78-7.78 2.81-2.81c.8-.78.8-2.07 0-2.86zM5.41 20L4 18.59l7.72-7.72 1.47 1.35L5.41 20z\"/>\n",
              "  </svg>\n",
              "      </button>\n",
              "      \n",
              "  <style>\n",
              "    .colab-df-container {\n",
              "      display:flex;\n",
              "      flex-wrap:wrap;\n",
              "      gap: 12px;\n",
              "    }\n",
              "\n",
              "    .colab-df-convert {\n",
              "      background-color: #E8F0FE;\n",
              "      border: none;\n",
              "      border-radius: 50%;\n",
              "      cursor: pointer;\n",
              "      display: none;\n",
              "      fill: #1967D2;\n",
              "      height: 32px;\n",
              "      padding: 0 0 0 0;\n",
              "      width: 32px;\n",
              "    }\n",
              "\n",
              "    .colab-df-convert:hover {\n",
              "      background-color: #E2EBFA;\n",
              "      box-shadow: 0px 1px 2px rgba(60, 64, 67, 0.3), 0px 1px 3px 1px rgba(60, 64, 67, 0.15);\n",
              "      fill: #174EA6;\n",
              "    }\n",
              "\n",
              "    [theme=dark] .colab-df-convert {\n",
              "      background-color: #3B4455;\n",
              "      fill: #D2E3FC;\n",
              "    }\n",
              "\n",
              "    [theme=dark] .colab-df-convert:hover {\n",
              "      background-color: #434B5C;\n",
              "      box-shadow: 0px 1px 3px 1px rgba(0, 0, 0, 0.15);\n",
              "      filter: drop-shadow(0px 1px 2px rgba(0, 0, 0, 0.3));\n",
              "      fill: #FFFFFF;\n",
              "    }\n",
              "  </style>\n",
              "\n",
              "      <script>\n",
              "        const buttonEl =\n",
              "          document.querySelector('#df-f6a26ec1-0136-4de9-b188-42340145f8f5 button.colab-df-convert');\n",
              "        buttonEl.style.display =\n",
              "          google.colab.kernel.accessAllowed ? 'block' : 'none';\n",
              "\n",
              "        async function convertToInteractive(key) {\n",
              "          const element = document.querySelector('#df-f6a26ec1-0136-4de9-b188-42340145f8f5');\n",
              "          const dataTable =\n",
              "            await google.colab.kernel.invokeFunction('convertToInteractive',\n",
              "                                                     [key], {});\n",
              "          if (!dataTable) return;\n",
              "\n",
              "          const docLinkHtml = 'Like what you see? Visit the ' +\n",
              "            '<a target=\"_blank\" href=https://colab.research.google.com/notebooks/data_table.ipynb>data table notebook</a>'\n",
              "            + ' to learn more about interactive tables.';\n",
              "          element.innerHTML = '';\n",
              "          dataTable['output_type'] = 'display_data';\n",
              "          await google.colab.output.renderOutput(dataTable, element);\n",
              "          const docLink = document.createElement('div');\n",
              "          docLink.innerHTML = docLinkHtml;\n",
              "          element.appendChild(docLink);\n",
              "        }\n",
              "      </script>\n",
              "    </div>\n",
              "  </div>\n",
              "  "
            ]
          },
          "metadata": {},
          "execution_count": 35
        }
      ],
      "source": [
        "data.describe()"
      ]
    },
    {
      "cell_type": "code",
      "source": [
        "duplicates = data.duplicated()\n",
        "print(duplicates)\n",
        "\n",
        "# Count duplicates\n",
        "n_duplicates = duplicates.sum()\n",
        "print(\"Number of duplicates:\", n_duplicates)\n",
        "\n",
        "# Remove duplicates\n",
        "data = data.drop_duplicates()"
      ],
      "metadata": {
        "colab": {
          "base_uri": "https://localhost:8080/"
        },
        "id": "J0svkci_zARO",
        "outputId": "b7a97929-2114-4d68-9ba1-bcfac4ecf3f5"
      },
      "execution_count": null,
      "outputs": [
        {
          "output_type": "stream",
          "name": "stdout",
          "text": [
            "0       False\n",
            "1        True\n",
            "2        True\n",
            "3        True\n",
            "4       False\n",
            "        ...  \n",
            "1930    False\n",
            "1931    False\n",
            "1932    False\n",
            "1933     True\n",
            "1934    False\n",
            "Length: 1935, dtype: bool\n",
            "Number of duplicates: 748\n"
          ]
        }
      ]
    },
    {
      "cell_type": "code",
      "source": [
        "data.shape"
      ],
      "metadata": {
        "colab": {
          "base_uri": "https://localhost:8080/"
        },
        "id": "sQL0_wijzALc",
        "outputId": "c96130db-2ec4-4aa8-81ff-bc120ee0213e"
      },
      "execution_count": null,
      "outputs": [
        {
          "output_type": "execute_result",
          "data": {
            "text/plain": [
              "(1187, 13)"
            ]
          },
          "metadata": {},
          "execution_count": 37
        }
      ]
    },
    {
      "cell_type": "code",
      "source": [
        "# Prepare the input and target data\n",
        "X = data.drop('delivery_mode', axis=1)\n",
        "y = data['delivery_mode']"
      ],
      "metadata": {
        "id": "UD683jTUufnf"
      },
      "execution_count": null,
      "outputs": []
    },
    {
      "cell_type": "code",
      "source": [
        "from sklearn.preprocessing import MinMaxScaler\n",
        "\n",
        "# Apply normalization\n",
        "normalizer = MinMaxScaler()\n",
        "# X_normalized = normalizer.fit_transform(X)\n",
        "X = normalizer.fit_transform(X)"
      ],
      "metadata": {
        "id": "ko1eVJsMtTbB"
      },
      "execution_count": null,
      "outputs": []
    },
    {
      "cell_type": "code",
      "source": [
        "# Apply feature scaling\n",
        "scaler = StandardScaler()\n",
        "# X_scaled = scaler.fit_transform(X)\n",
        "X = scaler.fit_transform(X)"
      ],
      "metadata": {
        "id": "YZLk_U3Wto5f"
      },
      "execution_count": null,
      "outputs": []
    },
    {
      "cell_type": "code",
      "source": [
        "# Calculate the IQR for each feature\n",
        "Q1 = np.quantile(X, 0.25)\n",
        "Q3 = np.quantile(X, 0.75)\n",
        "IQR = Q3 - Q1\n",
        "\n",
        "# Filter out outliers\n",
        "# X_no_outliers = X[~((X < (Q1 - 1.5 * IQR)) | (X > (Q3 + 1.5 * IQR))).any(axis=1)]\n",
        "y = y[~((X < (Q1 - 1.5 * IQR)) | (X > (Q3 + 1.5 * IQR))).any(axis=1)]\n",
        "X = X[~((X < (Q1 - 1.5 * IQR)) | (X > (Q3 + 1.5 * IQR))).any(axis=1)]"
      ],
      "metadata": {
        "id": "KOU0ieZBuaU4"
      },
      "execution_count": null,
      "outputs": []
    },
    {
      "cell_type": "code",
      "execution_count": null,
      "metadata": {
        "id": "6IrKCp7Q56n7",
        "colab": {
          "base_uri": "https://localhost:8080/"
        },
        "outputId": "b74c0144-a115-4b54-f1aa-a9d4f4a85805"
      },
      "outputs": [
        {
          "output_type": "stream",
          "name": "stdout",
          "text": [
            "No duplicate records exist in the two datasets.\n"
          ]
        }
      ],
      "source": [
        "# # Split the data into training and test sets\n",
        "# X_train, X_test, y_train, y_test = train_test_split(X, y, test_size=0.2, random_state=41)\n",
        "\n",
        "import pandas as pd\n",
        "from sklearn.model_selection import GroupShuffleSplit\n",
        "from sklearn.preprocessing import StandardScaler\n",
        "\n",
        "# Assuming 'mum_age' is sufficient to uniquely identify the records from the same person\n",
        "assert \"mum_age\" in data.columns, \"Please make sure 'mum_age' is in the dataframe\"\n",
        "\n",
        "# Create X (input features) and y (target) from 'data'\n",
        "X = data.drop([\"delivery_mode\"], axis=1)\n",
        "y = data[\"delivery_mode\"]\n",
        "\n",
        "# Split the data into training and test sets based on the 'mum_age' groups\n",
        "group_split = GroupShuffleSplit(n_splits=1, test_size=0.2, random_state=41)\n",
        "train_idx, test_idx = next(group_split.split(X, y, groups=data[\"mum_age\"]))\n",
        "\n",
        "X_train, X_test = X.iloc[train_idx], X.iloc[test_idx]\n",
        "y_train, y_test = y.iloc[train_idx], y.iloc[test_idx]\n",
        "\n",
        "# Merge the two dataframes based on all columns\n",
        "merged_df = pd.merge(X_train, X_test, on=list(X_train.columns), how='inner')\n",
        "\n",
        "# Check if the merged dataframe has any rows\n",
        "if merged_df.shape[0] > 0:\n",
        "    print(\"Duplicate records exist in the two datasets.\")\n",
        "else:\n",
        "    print(\"No duplicate records exist in the two datasets.\")\n",
        "\n",
        "# # Standardize the input data\n",
        "# scaler = StandardScaler()\n",
        "# X_train = scaler.fit_transform(X_train)\n",
        "# X_test = scaler.transform(X_test)"
      ]
    },
    {
      "cell_type": "markdown",
      "source": [
        "Prepare Validation Set (Without Data Leakage)"
      ],
      "metadata": {
        "id": "rUZa4l4Ifv7t"
      }
    },
    {
      "cell_type": "code",
      "source": [
        "# Concatenate training and test set, but keep the index information\n",
        "X_full = pd.concat([X_train, X_test]).reset_index(drop=True)\n",
        "y_full = pd.concat([y_train, y_test]).reset_index(drop=True)\n",
        "\n",
        "# Define the split index\n",
        "test_fold = [-1] * len(X_train) + [0] * len(X_test)  # -1 for training data, 0 for test data\n",
        "cv = PredefinedSplit(test_fold)"
      ],
      "metadata": {
        "id": "ambPHG7zfvHp"
      },
      "execution_count": null,
      "outputs": []
    },
    {
      "cell_type": "markdown",
      "source": [
        "## **Deep Learning**"
      ],
      "metadata": {
        "id": "DJZ1CKBUOSZY"
      }
    },
    {
      "cell_type": "code",
      "execution_count": null,
      "metadata": {
        "id": "lAfUt4oD56n8"
      },
      "outputs": [],
      "source": [
        "# # Define the model\n",
        "# model = Sequential([\n",
        "#     Dense(64, activation='relu', input_shape=(X_train.shape[1],)),\n",
        "#     Dropout(0.2),\n",
        "#     Dense(32, activation='relu'),\n",
        "#     Dropout(0.2),\n",
        "#     Dense(16, activation='relu'),\n",
        "#     Dense(3, activation='softmax')\n",
        "# ])\n",
        "\n",
        "# # Compile the model\n",
        "# model.compile(optimizer='adam', loss='sparse_categorical_crossentropy', metrics=['accuracy'])\n",
        "\n",
        "# # Train the model\n",
        "# model.fit(X_train, y_train, epochs=300, batch_size=32, validation_split=0.1)"
      ]
    },
    {
      "cell_type": "code",
      "execution_count": null,
      "metadata": {
        "colab": {
          "base_uri": "https://localhost:8080/"
        },
        "id": "H5g8d34L56n8",
        "outputId": "7d7b5da1-b988-44c8-a575-613d83605c18"
      },
      "outputs": [
        {
          "output_type": "stream",
          "name": "stdout",
          "text": [
            "8/8 [==============================] - 0s 3ms/step - loss: 0.7947 - accuracy: 0.5165\n",
            "Test accuracy: 0.5165289044380188\n"
          ]
        }
      ],
      "source": [
        "# # Evaluate the model on the test set\n",
        "# test_loss, test_accuracy = model.evaluate(X_test, y_test)\n",
        "# print(f'Test accuracy: {test_accuracy}')"
      ]
    },
    {
      "cell_type": "code",
      "execution_count": null,
      "metadata": {
        "colab": {
          "base_uri": "https://localhost:8080/"
        },
        "id": "aEghWMv956n9",
        "outputId": "e53afbc8-8540-4c93-b410-3027df26374f"
      },
      "outputs": [
        {
          "output_type": "stream",
          "name": "stdout",
          "text": [
            "1/1 [==============================] - 0s 38ms/step\n",
            "Predicted delivery_mode: [0]\n"
          ]
        },
        {
          "output_type": "stream",
          "name": "stderr",
          "text": [
            "/usr/local/lib/python3.10/dist-packages/sklearn/base.py:439: UserWarning: X does not have valid feature names, but StandardScaler was fitted with feature names\n",
            "  warnings.warn(\n"
          ]
        }
      ],
      "source": [
        "# # Predict delivery_mode for new data\n",
        "# new_data = np.array([[50.2, 123, 1, 1, 0, 0, 0, 1, 1, 0, 1, 0]])\n",
        "# new_data_scaled = scaler.transform(new_data)\n",
        "# predictions = model.predict(new_data_scaled)\n",
        "# predicted_delivery_mode = np.argmax(predictions, axis=1)\n",
        "# print(f'Predicted delivery_mode: {predicted_delivery_mode}')"
      ]
    },
    {
      "cell_type": "markdown",
      "source": [
        "## **Random Forest**"
      ],
      "metadata": {
        "id": "ABup7ihyj5mu"
      }
    },
    {
      "cell_type": "code",
      "source": [
        "from sklearn.ensemble import RandomForestClassifier\n",
        "\n",
        "# Create the RandomForest model\n",
        "rf_model = RandomForestClassifier(n_estimators=100, max_depth=25, min_samples_split=10, min_samples_leaf=2, max_features='sqrt', random_state=43)\n",
        "\n",
        "# Train the model\n",
        "rf_model.fit(X_train, y_train)\n",
        "\n",
        "# Predict delivery_mode on the test set\n",
        "y_pred_rf = rf_model.predict(X_test)\n",
        "\n",
        "# Calculate accuracy, precision, recall, and F1-score for each class\n",
        "test_accuracy_rf = accuracy_score(y_test, y_pred_rf)\n",
        "\n",
        "# # Print the evaluation metrics\n",
        "print(f'Test accuracy (RandomForest): {test_accuracy_rf}')\n"
      ],
      "metadata": {
        "colab": {
          "base_uri": "https://localhost:8080/"
        },
        "id": "gvJjYP-SBDei",
        "outputId": "d218d4c0-3147-4229-d1e2-5b7313f78c18"
      },
      "execution_count": null,
      "outputs": [
        {
          "output_type": "stream",
          "name": "stdout",
          "text": [
            "Test accuracy (RandomForest): 0.628099173553719\n"
          ]
        }
      ]
    },
    {
      "cell_type": "code",
      "source": [
        "# Define the hyperparameters to search\n",
        "param_grid = {\n",
        "    'n_estimators': [100],\n",
        "    'max_depth': [25],\n",
        "    'min_samples_split': [10],\n",
        "    'min_samples_leaf': [2],\n",
        "    'max_features': ['sqrt']\n",
        "}\n",
        "\n",
        "# Perform grid search with cross-validation\n",
        "grid_search = GridSearchCV(rf_model, param_grid, cv=cv, scoring='accuracy', n_jobs=-1, verbose=1)\n",
        "grid_search.fit(X_full, y_full)\n",
        "\n",
        "# Print the best hyperparameters and their corresponding accuracy score\n",
        "print(f'Best hyperparameters: {grid_search.best_params_}')\n",
        "print(f'Best cross-validation accuracy: {grid_search.best_score_}')\n",
        "\n",
        "# Train the model with the best hyperparameters on the entire training set\n",
        "best_prmt_model = grid_search.best_estimator_\n",
        "best_prmt_model.fit(X_train, y_train)\n",
        "\n",
        "# Predict delivery_mode on the test set\n",
        "y_pred_best_prmt = best_prmt_model.predict(X_test)\n",
        "\n",
        "# Evaluate the model\n",
        "test_accuracy_best_prmt = accuracy_score(y_test, y_pred_best_prmt)\n",
        "print(f'Test accuracy (RandomForest - tuned): {test_accuracy_best_prmt}')"
      ],
      "metadata": {
        "colab": {
          "base_uri": "https://localhost:8080/"
        },
        "id": "nlZt-8MXkDB6",
        "outputId": "7c0e98b9-bc9d-4d61-f88c-9a8c2efd04d5"
      },
      "execution_count": null,
      "outputs": [
        {
          "output_type": "stream",
          "name": "stdout",
          "text": [
            "Fitting 1 folds for each of 2 candidates, totalling 2 fits\n",
            "Best hyperparameters: {'max_depth': 25, 'max_features': 'sqrt', 'min_samples_leaf': 2, 'min_samples_split': 10, 'n_estimators': 100}\n",
            "Best cross-validation accuracy: 0.628099173553719\n",
            "Test accuracy (RandomForest - tuned): 0.628099173553719\n"
          ]
        }
      ]
    },
    {
      "cell_type": "markdown",
      "source": [
        "## **K-Nearest Neighbors**"
      ],
      "metadata": {
        "id": "OdI3OEiKwNyR"
      }
    },
    {
      "cell_type": "code",
      "source": [
        "from sklearn.neighbors import KNeighborsClassifier\n",
        "\n",
        "# Create the K-Nearest Neighbors model\n",
        "knn_model = KNeighborsClassifier(n_neighbors=21,algorithm='ball_tree',leaf_size=1,metric='minkowski',p=2,weights='uniform')\n",
        "\n",
        "# Train the model\n",
        "knn_model.fit(X_train, y_train)\n",
        "\n",
        "# Predict delivery_mode on the test set\n",
        "y_pred_knn = knn_model.predict(X_test)\n",
        "\n",
        "# Evaluate the model\n",
        "test_accuracy_knn = accuracy_score(y_test, y_pred_knn)\n",
        "print(f'Test accuracy (K-Nearest Neighbors): {test_accuracy_knn}')"
      ],
      "metadata": {
        "colab": {
          "base_uri": "https://localhost:8080/"
        },
        "id": "EEffZ7hVBHLK",
        "outputId": "3c6e6418-71da-49c0-dea7-b99ad548f9a9"
      },
      "execution_count": null,
      "outputs": [
        {
          "output_type": "stream",
          "name": "stdout",
          "text": [
            "Test accuracy (K-Nearest Neighbors): 0.5867768595041323\n"
          ]
        }
      ]
    },
    {
      "cell_type": "code",
      "source": [
        "# Define the hyperparameters to search\n",
        "param_grid = {\n",
        "    'n_neighbors': [x for x in range(1,100)],\n",
        "    'weights': ['uniform','distance'],\n",
        "    'p': [1,2],\n",
        "    'algorithm': ['ball_tree'],\n",
        "    'leaf_size': [x for x in range(1,100)],\n",
        "    'metric': ['minkowski', 'euclidean']\n",
        "}\n",
        "\n",
        "# Perform grid search with cross-validation\n",
        "grid_search = GridSearchCV(knn_model, param_grid, cv=cv, scoring='accuracy', n_jobs=-1, verbose=1)\n",
        "grid_search.fit(X_full, y_full)\n",
        "\n",
        "# Print the best hyperparameters and their corresponding accuracy score\n",
        "print(f'Best hyperparameters: {grid_search.best_params_}')\n",
        "print(f'Best cross-validation accuracy: {grid_search.best_score_}')\n",
        "\n",
        "# Train the model with the best hyperparameters on the entire training set\n",
        "best_prmt_model = grid_search.best_estimator_\n",
        "best_prmt_model.fit(X_train, y_train)\n",
        "\n",
        "# Predict delivery_mode on the test set\n",
        "y_pred_best_prmt = best_prmt_model.predict(X_test)\n",
        "\n",
        "# Evaluate the model\n",
        "test_accuracy_best_prmt = accuracy_score(y_test, y_pred_best_prmt)\n",
        "print(f'Test accuracy (KNN - tuned): {test_accuracy_best_prmt}')"
      ],
      "metadata": {
        "colab": {
          "base_uri": "https://localhost:8080/"
        },
        "id": "ASAeE7DiC6Cu",
        "outputId": "e98824b6-7688-481b-e3f8-fa0f6f58e579"
      },
      "execution_count": null,
      "outputs": [
        {
          "output_type": "stream",
          "name": "stdout",
          "text": [
            "Fitting 1 folds for each of 2328 candidates, totalling 2328 fits\n",
            "Best hyperparameters: {'algorithm': 'ball_tree', 'leaf_size': 1, 'metric': 'minkowski', 'n_neighbors': 21, 'p': 2, 'weights': 'uniform'}\n",
            "Best cross-validation accuracy: 0.5867768595041323\n",
            "Test accuracy (KNN - tuned): 0.5867768595041323\n"
          ]
        }
      ]
    },
    {
      "cell_type": "markdown",
      "source": [
        "## **LightGBM**"
      ],
      "metadata": {
        "id": "XImDZtA6uIsP"
      }
    },
    {
      "cell_type": "code",
      "source": [
        "import lightgbm as lgb\n",
        "\n",
        "# Create the LightGBM model\n",
        "lgb_model = lgb.LGBMClassifier(n_estimators=15,num_leaves=31,colsample_bytree=0.65, subsample=0.15,boosting_type='gbdt', objective='regression', learning_rate=0.09, random_state=42)\n",
        "\n",
        "# Train the model\n",
        "lgb_model.fit(X_train, y_train)\n",
        "\n",
        "# Predict delivery_mode on the test set\n",
        "y_pred_lgb = lgb_model.predict(X_test)\n",
        "\n",
        "# Evaluate the model\n",
        "test_accuracy_lgb = accuracy_score(y_test, y_pred_lgb)\n",
        "print(f'Test accuracy (LightGBM): {test_accuracy_lgb}')\n"
      ],
      "metadata": {
        "colab": {
          "base_uri": "https://localhost:8080/"
        },
        "id": "o9orNOI0De2D",
        "outputId": "5db3a5cc-d821-42c4-ddc5-aacd062256fe"
      },
      "execution_count": null,
      "outputs": [
        {
          "output_type": "stream",
          "name": "stdout",
          "text": [
            "Test accuracy (LightGBM): 0.6115702479338843\n"
          ]
        }
      ]
    },
    {
      "cell_type": "code",
      "source": [
        "# Define the hyperparameters to search\n",
        "param_grid = {\n",
        "    'learning_rate': [0.08,0.09,0.1],\n",
        "    'num_leaves': [30,31,32],\n",
        "    'max_depth': [-1],\n",
        "    'subsample': [0.13,0.14,0.15],\n",
        "    'colsample_bytree': [0.6, 0.65, 0.7],\n",
        "    'n_estimators': [14,15,16],\n",
        "    'boosting_type': ['gbdt', 'dart'],\n",
        "    'objective': ['regression', 'binary', 'multiclass'],\n",
        "}\n",
        "\n",
        "# Perform grid search with cross-validation\n",
        "grid_search = GridSearchCV(lgb_model, param_grid, cv=cv, scoring='accuracy', n_jobs=-1, verbose=1)\n",
        "grid_search.fit(X_full, y_full)\n",
        "\n",
        "# Print the best hyperparameters and their corresponding accuracy score\n",
        "print(f'Best hyperparameters: {grid_search.best_params_}')\n",
        "print(f'Best cross-validation accuracy: {grid_search.best_score_}')\n",
        "\n",
        "# Train the model with the best hyperparameters on the entire training set\n",
        "best_prmt_model = grid_search.best_estimator_\n",
        "best_prmt_model.fit(X_train, y_train)\n",
        "\n",
        "# Predict delivery_mode on the test set\n",
        "y_pred_best_prmt = best_prmt_model.predict(X_test)\n",
        "\n",
        "# Evaluate the model\n",
        "test_accuracy_best_prmt = accuracy_score(y_test, y_pred_best_prmt)\n",
        "print(f'Test accuracy (LightGBM - tuned): {test_accuracy_best_prmt}')"
      ],
      "metadata": {
        "colab": {
          "base_uri": "https://localhost:8080/"
        },
        "id": "D8AFywoIizHW",
        "outputId": "a4698519-1c53-49e0-cf9a-695e624c21f6"
      },
      "execution_count": null,
      "outputs": [
        {
          "output_type": "stream",
          "name": "stdout",
          "text": [
            "Fitting 1 folds for each of 1458 candidates, totalling 1458 fits\n",
            "Best hyperparameters: {'boosting_type': 'gbdt', 'colsample_bytree': 0.65, 'learning_rate': 0.09, 'max_depth': -1, 'n_estimators': 15, 'num_leaves': 31, 'objective': 'regression', 'subsample': 0.13}\n",
            "Best cross-validation accuracy: 0.6115702479338843\n",
            "Test accuracy (LightGBM - tuned): 0.6115702479338843\n"
          ]
        }
      ]
    },
    {
      "cell_type": "markdown",
      "source": [
        "## **XGBoost**"
      ],
      "metadata": {
        "id": "shYJa8wNuCVv"
      }
    },
    {
      "cell_type": "code",
      "source": [
        "import xgboost as xgb\n",
        "\n",
        "# Create the XGBoost model\n",
        "xgb_model = xgb.XGBClassifier(n_estimators=90, max_depth=3,colsample_bytree=0.69, learning_rate=0.2, min_child_weight=1, objective='reg:squarederror', random_state=42)\n",
        "\n",
        "# Train the model\n",
        "xgb_model.fit(X_train, y_train)\n",
        "\n",
        "# Predict delivery_mode on the test set\n",
        "y_pred_xgb = xgb_model.predict(X_test)\n",
        "\n",
        "# Evaluate the model\n",
        "test_accuracy_xgb = accuracy_score(y_test, y_pred_xgb)\n",
        "print(f'Test accuracy (XGBoost): {test_accuracy_xgb}')\n"
      ],
      "metadata": {
        "colab": {
          "base_uri": "https://localhost:8080/"
        },
        "id": "VeQapIvdDjBS",
        "outputId": "27e9f2c2-b362-4f09-a7fa-5d5b063999ef"
      },
      "execution_count": null,
      "outputs": [
        {
          "output_type": "stream",
          "name": "stdout",
          "text": [
            "Test accuracy (XGBoost): 0.6198347107438017\n"
          ]
        }
      ]
    },
    {
      "cell_type": "code",
      "source": [
        "from sklearn.model_selection import GridSearchCV\n",
        "\n",
        "# Define the hyperparameters to search\n",
        "param_grid = {\n",
        "    'learning_rate': [0.2],\n",
        "    'n_estimators': [89,90,91],\n",
        "    'max_depth': [3],\n",
        "    # 'subsample': [0.5, 0.7, 0.9],\n",
        "    'colsample_bytree': [0.69],\n",
        "    'gamma': [0, 0.1, 0.5, 1.0],\n",
        "    'alpha': [0, 0.1, 0.5, 1.0],\n",
        "    'lambda': [0, 0.1, 0.5, 1.0],\n",
        "    'min_child_weight': [1],\n",
        "    'objective': ['reg:squarederror'], #, 'binary:logistic', 'multi:softmax'\n",
        "    # 'eval_metric': ['rmse', 'mae', 'logloss', 'error'],\n",
        "}\n",
        "\n",
        "# Perform grid search with cross-validation\n",
        "grid_search = GridSearchCV(xgb_model, param_grid, cv=cv, scoring='accuracy', n_jobs=-1, verbose=1)\n",
        "grid_search.fit(X_full, y_full)\n",
        "\n",
        "# Print the best hyperparameters and their corresponding accuracy score\n",
        "print(f'Best hyperparameters: {grid_search.best_params_}')\n",
        "print(f'Best cross-validation accuracy: {grid_search.best_score_}')\n",
        "\n",
        "# Train the model with the best hyperparameters on the entire training set\n",
        "best_xgb_model = grid_search.best_estimator_\n",
        "best_xgb_model.fit(X_train, y_train)\n",
        "\n",
        "# Predict delivery_mode on the test set\n",
        "y_pred_best_xgb = best_xgb_model.predict(X_test)\n",
        "\n",
        "# Evaluate the model\n",
        "test_accuracy_best_xgb = accuracy_score(y_test, y_pred_best_xgb)\n",
        "print(f'Test accuracy (XGBoost - tuned): {test_accuracy_best_xgb}')"
      ],
      "metadata": {
        "colab": {
          "base_uri": "https://localhost:8080/",
          "height": 235
        },
        "id": "8f_veBU4uPsK",
        "outputId": "15acf332-5455-4b57-9638-ab718da94b55"
      },
      "execution_count": null,
      "outputs": [
        {
          "output_type": "error",
          "ename": "NameError",
          "evalue": "ignored",
          "traceback": [
            "\u001b[0;31m---------------------------------------------------------------------------\u001b[0m",
            "\u001b[0;31mNameError\u001b[0m                                 Traceback (most recent call last)",
            "\u001b[0;32m<ipython-input-4-99a6e2f63ed1>\u001b[0m in \u001b[0;36m<cell line: 19>\u001b[0;34m()\u001b[0m\n\u001b[1;32m     17\u001b[0m \u001b[0;34m\u001b[0m\u001b[0m\n\u001b[1;32m     18\u001b[0m \u001b[0;31m# Perform grid search with cross-validation\u001b[0m\u001b[0;34m\u001b[0m\u001b[0;34m\u001b[0m\u001b[0m\n\u001b[0;32m---> 19\u001b[0;31m \u001b[0mgrid_search\u001b[0m \u001b[0;34m=\u001b[0m \u001b[0mGridSearchCV\u001b[0m\u001b[0;34m(\u001b[0m\u001b[0mxgb_model\u001b[0m\u001b[0;34m,\u001b[0m \u001b[0mparam_grid\u001b[0m\u001b[0;34m,\u001b[0m \u001b[0mcv\u001b[0m\u001b[0;34m=\u001b[0m\u001b[0mcv\u001b[0m\u001b[0;34m,\u001b[0m \u001b[0mscoring\u001b[0m\u001b[0;34m=\u001b[0m\u001b[0;34m'accuracy'\u001b[0m\u001b[0;34m,\u001b[0m \u001b[0mn_jobs\u001b[0m\u001b[0;34m=\u001b[0m\u001b[0;34m-\u001b[0m\u001b[0;36m1\u001b[0m\u001b[0;34m,\u001b[0m \u001b[0mverbose\u001b[0m\u001b[0;34m=\u001b[0m\u001b[0;36m1\u001b[0m\u001b[0;34m)\u001b[0m\u001b[0;34m\u001b[0m\u001b[0;34m\u001b[0m\u001b[0m\n\u001b[0m\u001b[1;32m     20\u001b[0m \u001b[0mgrid_search\u001b[0m\u001b[0;34m.\u001b[0m\u001b[0mfit\u001b[0m\u001b[0;34m(\u001b[0m\u001b[0mX_full\u001b[0m\u001b[0;34m,\u001b[0m \u001b[0my_full\u001b[0m\u001b[0;34m)\u001b[0m\u001b[0;34m\u001b[0m\u001b[0;34m\u001b[0m\u001b[0m\n\u001b[1;32m     21\u001b[0m \u001b[0;34m\u001b[0m\u001b[0m\n",
            "\u001b[0;31mNameError\u001b[0m: name 'xgb_model' is not defined"
          ]
        }
      ]
    },
    {
      "cell_type": "markdown",
      "source": [
        "## **Decision Tree**"
      ],
      "metadata": {
        "id": "2UZjmfD5t5Il"
      }
    },
    {
      "cell_type": "code",
      "source": [
        "from sklearn.tree import DecisionTreeClassifier\n",
        "\n",
        "# Create the Decision Tree model\n",
        "dt_model = DecisionTreeClassifier(criterion = 'gini', max_depth = 12, min_samples_leaf = 4, min_samples_split = 2, max_features=None, random_state=42)\n",
        "\n",
        "# Train the model\n",
        "dt_model.fit(X_train, y_train)\n",
        "\n",
        "# Predict delivery_mode on the test set\n",
        "y_pred_dt = dt_model.predict(X_test)\n",
        "\n",
        "# Evaluate the model\n",
        "test_accuracy_dt = accuracy_score(y_test, y_pred_dt)\n",
        "print(f'Test accuracy (Decision Tree): {test_accuracy_dt}')"
      ],
      "metadata": {
        "colab": {
          "base_uri": "https://localhost:8080/"
        },
        "id": "jLa7JiF1Z_gx",
        "outputId": "537d73be-741c-4974-86e6-e928c5e683a8"
      },
      "execution_count": null,
      "outputs": [
        {
          "output_type": "stream",
          "name": "stdout",
          "text": [
            "Test accuracy (Decision Tree): 0.6239669421487604\n"
          ]
        }
      ]
    },
    {
      "cell_type": "code",
      "source": [
        "# Define the hyperparameters to search\n",
        "param_grid = {\n",
        "    'criterion': ['gini','entropy'],\n",
        "    'max_depth': [x for x in range (10,23)],\n",
        "    'min_samples_split': [2,3,4,5,6,50],\n",
        "    'min_samples_leaf': [1,2,3,4,5,6,7],\n",
        "    'max_features': ['sqrt', 'log2', None]\n",
        "}\n",
        "\n",
        "# Perform grid search with the custom validation set (validation set is same as test set)\n",
        "grid_search = GridSearchCV(dt_model, param_grid, cv=cv, scoring='accuracy', n_jobs=-1, verbose=1)\n",
        "grid_search.fit(X_full, y_full)\n",
        "\n",
        "# Print the best hyperparameters and their corresponding accuracy score\n",
        "print(f'Best hyperparameters: {grid_search.best_params_}')\n",
        "print(f'Best cross-validation accuracy: {grid_search.best_score_}')\n",
        "\n",
        "# Train the model with the best hyperparameters on the entire training set\n",
        "best_dt_model = grid_search.best_estimator_\n",
        "best_dt_model.fit(X_train, y_train)\n",
        "\n",
        "# Predict delivery_mode on the test set\n",
        "y_pred_best_dt = best_dt_model.predict(X_test)\n",
        "\n",
        "# Evaluate the model\n",
        "test_accuracy_best_dt = accuracy_score(y_test, y_pred_best_dt)\n",
        "print(f'Test accuracy (Decision Tree - tuned): {test_accuracy_best_dt}')\n"
      ],
      "metadata": {
        "colab": {
          "base_uri": "https://localhost:8080/"
        },
        "id": "2kpbjyOQdqO5",
        "outputId": "4b62d8a7-d531-46b3-c12d-3a0ea5359126"
      },
      "execution_count": null,
      "outputs": [
        {
          "output_type": "stream",
          "name": "stdout",
          "text": [
            "Fitting 1 folds for each of 3276 candidates, totalling 3276 fits\n",
            "Best hyperparameters: {'criterion': 'gini', 'max_depth': 12, 'max_features': None, 'min_samples_leaf': 4, 'min_samples_split': 2}\n",
            "Best cross-validation accuracy: 0.6239669421487604\n",
            "Test accuracy (Decision Tree - tuned): 0.6239669421487604\n"
          ]
        }
      ]
    },
    {
      "cell_type": "markdown",
      "source": [
        "## **SVM**"
      ],
      "metadata": {
        "id": "mvtzryHvxibQ"
      }
    },
    {
      "cell_type": "code",
      "source": [
        "from sklearn.svm import SVC\n",
        "\n",
        "# Create the SVM model\n",
        "svm_model = SVC(kernel='poly', C=1,degree=2, gamma=10, random_state=42)\n",
        "\n",
        "# Train the model\n",
        "svm_model.fit(X_train, y_train)\n",
        "\n",
        "# Predict delivery_mode on the test set\n",
        "y_pred_svm = svm_model.predict(X_test)\n",
        "\n",
        "# Evaluate the model\n",
        "test_accuracy_svm = accuracy_score(y_test, y_pred_svm)\n",
        "print(f'Test accuracy (SVM): {test_accuracy_svm}')\n"
      ],
      "metadata": {
        "colab": {
          "base_uri": "https://localhost:8080/"
        },
        "id": "-5Jo2vHTxhri",
        "outputId": "ed65dcfd-8fd9-45e9-8be0-d260a1cd17f5"
      },
      "execution_count": null,
      "outputs": [
        {
          "output_type": "stream",
          "name": "stdout",
          "text": [
            "Test accuracy (SVM): 0.6115702479338843\n"
          ]
        }
      ]
    },
    {
      "cell_type": "code",
      "source": [
        "# Define the hyperparameters to search\n",
        "param_grid = {\n",
        "    'kernel': [ 'linear','poly', 'rbf', 'sigmoid'],#\n",
        "    'C': [0.1, 1, 2],\n",
        "    'gamma': [10,11],#'scale', 'auto',\n",
        "    'degree': [1,2,3 ],#3, 4\n",
        "    # 'coef0': [0.0, 0.1, 1.0],\n",
        "    # 'shrinking': [True, False],\n",
        "    'max_iter': [-1]\n",
        "}\n",
        "\n",
        "# Perform grid search with the custom validation set (validation set is same as test set)\n",
        "grid_search = GridSearchCV(svm_model, param_grid, cv=cv, scoring='accuracy', n_jobs=-1, verbose=1)\n",
        "grid_search.fit(X_full, y_full)\n",
        "\n",
        "# Train the model with the best hyperparameters on the entire dataset\n",
        "best_svm_model = grid_search.best_estimator_\n",
        "best_svm_model.fit(X_train, y_train)\n",
        "\n",
        "# Predict delivery_mode on the test set\n",
        "y_pred_best_svm = best_svm_model.predict(X_test)\n",
        "\n",
        "# Print the best hyperparameters and their corresponding accuracy score\n",
        "print(f'Best hyperparameters: {grid_search.best_params_}')\n",
        "print(f'Best validation accuracy: {grid_search.best_score_}')\n",
        "test_accuracy_best_svm = accuracy_score(y_test, best_svm_model.predict(X_test))\n",
        "print(f'Test accuracy (SVM - tuned): {test_accuracy_best_svm}')"
      ],
      "metadata": {
        "colab": {
          "base_uri": "https://localhost:8080/",
          "height": 397
        },
        "id": "8XXm6txlReVE",
        "outputId": "ce2d4c9c-6b04-4345-d31e-2a9d8aae0bdc"
      },
      "execution_count": null,
      "outputs": [
        {
          "output_type": "stream",
          "name": "stdout",
          "text": [
            "Fitting 1 folds for each of 72 candidates, totalling 72 fits\n"
          ]
        },
        {
          "output_type": "error",
          "ename": "KeyboardInterrupt",
          "evalue": "ignored",
          "traceback": [
            "\u001b[0;31m---------------------------------------------------------------------------\u001b[0m",
            "\u001b[0;31mKeyboardInterrupt\u001b[0m                         Traceback (most recent call last)",
            "\u001b[0;32m<ipython-input-32-6de4794bb6c0>\u001b[0m in \u001b[0;36m<cell line: 14>\u001b[0;34m()\u001b[0m\n\u001b[1;32m     12\u001b[0m \u001b[0;31m# Perform grid search with the custom validation set (validation set is same as test set)\u001b[0m\u001b[0;34m\u001b[0m\u001b[0;34m\u001b[0m\u001b[0m\n\u001b[1;32m     13\u001b[0m \u001b[0mgrid_search\u001b[0m \u001b[0;34m=\u001b[0m \u001b[0mGridSearchCV\u001b[0m\u001b[0;34m(\u001b[0m\u001b[0msvm_model\u001b[0m\u001b[0;34m,\u001b[0m \u001b[0mparam_grid\u001b[0m\u001b[0;34m,\u001b[0m \u001b[0mcv\u001b[0m\u001b[0;34m=\u001b[0m\u001b[0mcv\u001b[0m\u001b[0;34m,\u001b[0m \u001b[0mscoring\u001b[0m\u001b[0;34m=\u001b[0m\u001b[0;34m'accuracy'\u001b[0m\u001b[0;34m,\u001b[0m \u001b[0mn_jobs\u001b[0m\u001b[0;34m=\u001b[0m\u001b[0;34m-\u001b[0m\u001b[0;36m1\u001b[0m\u001b[0;34m,\u001b[0m \u001b[0mverbose\u001b[0m\u001b[0;34m=\u001b[0m\u001b[0;36m1\u001b[0m\u001b[0;34m)\u001b[0m\u001b[0;34m\u001b[0m\u001b[0;34m\u001b[0m\u001b[0m\n\u001b[0;32m---> 14\u001b[0;31m \u001b[0mgrid_search\u001b[0m\u001b[0;34m.\u001b[0m\u001b[0mfit\u001b[0m\u001b[0;34m(\u001b[0m\u001b[0mX_full\u001b[0m\u001b[0;34m,\u001b[0m \u001b[0my_full\u001b[0m\u001b[0;34m)\u001b[0m\u001b[0;34m\u001b[0m\u001b[0;34m\u001b[0m\u001b[0m\n\u001b[0m\u001b[1;32m     15\u001b[0m \u001b[0;34m\u001b[0m\u001b[0m\n\u001b[1;32m     16\u001b[0m \u001b[0;31m# Train the model with the best hyperparameters on the entire dataset\u001b[0m\u001b[0;34m\u001b[0m\u001b[0;34m\u001b[0m\u001b[0m\n",
            "\u001b[0;32m/usr/local/lib/python3.10/dist-packages/sklearn/model_selection/_search.py\u001b[0m in \u001b[0;36mfit\u001b[0;34m(self, X, y, groups, **fit_params)\u001b[0m\n\u001b[1;32m    872\u001b[0m                 \u001b[0;32mreturn\u001b[0m \u001b[0mresults\u001b[0m\u001b[0;34m\u001b[0m\u001b[0;34m\u001b[0m\u001b[0m\n\u001b[1;32m    873\u001b[0m \u001b[0;34m\u001b[0m\u001b[0m\n\u001b[0;32m--> 874\u001b[0;31m             \u001b[0mself\u001b[0m\u001b[0;34m.\u001b[0m\u001b[0m_run_search\u001b[0m\u001b[0;34m(\u001b[0m\u001b[0mevaluate_candidates\u001b[0m\u001b[0;34m)\u001b[0m\u001b[0;34m\u001b[0m\u001b[0;34m\u001b[0m\u001b[0m\n\u001b[0m\u001b[1;32m    875\u001b[0m \u001b[0;34m\u001b[0m\u001b[0m\n\u001b[1;32m    876\u001b[0m             \u001b[0;31m# multimetric is determined here because in the case of a callable\u001b[0m\u001b[0;34m\u001b[0m\u001b[0;34m\u001b[0m\u001b[0m\n",
            "\u001b[0;32m/usr/local/lib/python3.10/dist-packages/sklearn/model_selection/_search.py\u001b[0m in \u001b[0;36m_run_search\u001b[0;34m(self, evaluate_candidates)\u001b[0m\n\u001b[1;32m   1386\u001b[0m     \u001b[0;32mdef\u001b[0m \u001b[0m_run_search\u001b[0m\u001b[0;34m(\u001b[0m\u001b[0mself\u001b[0m\u001b[0;34m,\u001b[0m \u001b[0mevaluate_candidates\u001b[0m\u001b[0;34m)\u001b[0m\u001b[0;34m:\u001b[0m\u001b[0;34m\u001b[0m\u001b[0;34m\u001b[0m\u001b[0m\n\u001b[1;32m   1387\u001b[0m         \u001b[0;34m\"\"\"Search all candidates in param_grid\"\"\"\u001b[0m\u001b[0;34m\u001b[0m\u001b[0;34m\u001b[0m\u001b[0m\n\u001b[0;32m-> 1388\u001b[0;31m         \u001b[0mevaluate_candidates\u001b[0m\u001b[0;34m(\u001b[0m\u001b[0mParameterGrid\u001b[0m\u001b[0;34m(\u001b[0m\u001b[0mself\u001b[0m\u001b[0;34m.\u001b[0m\u001b[0mparam_grid\u001b[0m\u001b[0;34m)\u001b[0m\u001b[0;34m)\u001b[0m\u001b[0;34m\u001b[0m\u001b[0;34m\u001b[0m\u001b[0m\n\u001b[0m\u001b[1;32m   1389\u001b[0m \u001b[0;34m\u001b[0m\u001b[0m\n\u001b[1;32m   1390\u001b[0m \u001b[0;34m\u001b[0m\u001b[0m\n",
            "\u001b[0;32m/usr/local/lib/python3.10/dist-packages/sklearn/model_selection/_search.py\u001b[0m in \u001b[0;36mevaluate_candidates\u001b[0;34m(candidate_params, cv, more_results)\u001b[0m\n\u001b[1;32m    819\u001b[0m                     )\n\u001b[1;32m    820\u001b[0m \u001b[0;34m\u001b[0m\u001b[0m\n\u001b[0;32m--> 821\u001b[0;31m                 out = parallel(\n\u001b[0m\u001b[1;32m    822\u001b[0m                     delayed(_fit_and_score)(\n\u001b[1;32m    823\u001b[0m                         \u001b[0mclone\u001b[0m\u001b[0;34m(\u001b[0m\u001b[0mbase_estimator\u001b[0m\u001b[0;34m)\u001b[0m\u001b[0;34m,\u001b[0m\u001b[0;34m\u001b[0m\u001b[0;34m\u001b[0m\u001b[0m\n",
            "\u001b[0;32m/usr/local/lib/python3.10/dist-packages/sklearn/utils/parallel.py\u001b[0m in \u001b[0;36m__call__\u001b[0;34m(self, iterable)\u001b[0m\n\u001b[1;32m     61\u001b[0m             \u001b[0;32mfor\u001b[0m \u001b[0mdelayed_func\u001b[0m\u001b[0;34m,\u001b[0m \u001b[0margs\u001b[0m\u001b[0;34m,\u001b[0m \u001b[0mkwargs\u001b[0m \u001b[0;32min\u001b[0m \u001b[0miterable\u001b[0m\u001b[0;34m\u001b[0m\u001b[0;34m\u001b[0m\u001b[0m\n\u001b[1;32m     62\u001b[0m         )\n\u001b[0;32m---> 63\u001b[0;31m         \u001b[0;32mreturn\u001b[0m \u001b[0msuper\u001b[0m\u001b[0;34m(\u001b[0m\u001b[0;34m)\u001b[0m\u001b[0;34m.\u001b[0m\u001b[0m__call__\u001b[0m\u001b[0;34m(\u001b[0m\u001b[0miterable_with_config\u001b[0m\u001b[0;34m)\u001b[0m\u001b[0;34m\u001b[0m\u001b[0;34m\u001b[0m\u001b[0m\n\u001b[0m\u001b[1;32m     64\u001b[0m \u001b[0;34m\u001b[0m\u001b[0m\n\u001b[1;32m     65\u001b[0m \u001b[0;34m\u001b[0m\u001b[0m\n",
            "\u001b[0;32m/usr/local/lib/python3.10/dist-packages/joblib/parallel.py\u001b[0m in \u001b[0;36m__call__\u001b[0;34m(self, iterable)\u001b[0m\n\u001b[1;32m   1096\u001b[0m \u001b[0;34m\u001b[0m\u001b[0m\n\u001b[1;32m   1097\u001b[0m             \u001b[0;32mwith\u001b[0m \u001b[0mself\u001b[0m\u001b[0;34m.\u001b[0m\u001b[0m_backend\u001b[0m\u001b[0;34m.\u001b[0m\u001b[0mretrieval_context\u001b[0m\u001b[0;34m(\u001b[0m\u001b[0;34m)\u001b[0m\u001b[0;34m:\u001b[0m\u001b[0;34m\u001b[0m\u001b[0;34m\u001b[0m\u001b[0m\n\u001b[0;32m-> 1098\u001b[0;31m                 \u001b[0mself\u001b[0m\u001b[0;34m.\u001b[0m\u001b[0mretrieve\u001b[0m\u001b[0;34m(\u001b[0m\u001b[0;34m)\u001b[0m\u001b[0;34m\u001b[0m\u001b[0;34m\u001b[0m\u001b[0m\n\u001b[0m\u001b[1;32m   1099\u001b[0m             \u001b[0;31m# Make sure that we get a last message telling us we are done\u001b[0m\u001b[0;34m\u001b[0m\u001b[0;34m\u001b[0m\u001b[0m\n\u001b[1;32m   1100\u001b[0m             \u001b[0melapsed_time\u001b[0m \u001b[0;34m=\u001b[0m \u001b[0mtime\u001b[0m\u001b[0;34m.\u001b[0m\u001b[0mtime\u001b[0m\u001b[0;34m(\u001b[0m\u001b[0;34m)\u001b[0m \u001b[0;34m-\u001b[0m \u001b[0mself\u001b[0m\u001b[0;34m.\u001b[0m\u001b[0m_start_time\u001b[0m\u001b[0;34m\u001b[0m\u001b[0;34m\u001b[0m\u001b[0m\n",
            "\u001b[0;32m/usr/local/lib/python3.10/dist-packages/joblib/parallel.py\u001b[0m in \u001b[0;36mretrieve\u001b[0;34m(self)\u001b[0m\n\u001b[1;32m    973\u001b[0m             \u001b[0;32mtry\u001b[0m\u001b[0;34m:\u001b[0m\u001b[0;34m\u001b[0m\u001b[0;34m\u001b[0m\u001b[0m\n\u001b[1;32m    974\u001b[0m                 \u001b[0;32mif\u001b[0m \u001b[0mgetattr\u001b[0m\u001b[0;34m(\u001b[0m\u001b[0mself\u001b[0m\u001b[0;34m.\u001b[0m\u001b[0m_backend\u001b[0m\u001b[0;34m,\u001b[0m \u001b[0;34m'supports_timeout'\u001b[0m\u001b[0;34m,\u001b[0m \u001b[0;32mFalse\u001b[0m\u001b[0;34m)\u001b[0m\u001b[0;34m:\u001b[0m\u001b[0;34m\u001b[0m\u001b[0;34m\u001b[0m\u001b[0m\n\u001b[0;32m--> 975\u001b[0;31m                     \u001b[0mself\u001b[0m\u001b[0;34m.\u001b[0m\u001b[0m_output\u001b[0m\u001b[0;34m.\u001b[0m\u001b[0mextend\u001b[0m\u001b[0;34m(\u001b[0m\u001b[0mjob\u001b[0m\u001b[0;34m.\u001b[0m\u001b[0mget\u001b[0m\u001b[0;34m(\u001b[0m\u001b[0mtimeout\u001b[0m\u001b[0;34m=\u001b[0m\u001b[0mself\u001b[0m\u001b[0;34m.\u001b[0m\u001b[0mtimeout\u001b[0m\u001b[0;34m)\u001b[0m\u001b[0;34m)\u001b[0m\u001b[0;34m\u001b[0m\u001b[0;34m\u001b[0m\u001b[0m\n\u001b[0m\u001b[1;32m    976\u001b[0m                 \u001b[0;32melse\u001b[0m\u001b[0;34m:\u001b[0m\u001b[0;34m\u001b[0m\u001b[0;34m\u001b[0m\u001b[0m\n\u001b[1;32m    977\u001b[0m                     \u001b[0mself\u001b[0m\u001b[0;34m.\u001b[0m\u001b[0m_output\u001b[0m\u001b[0;34m.\u001b[0m\u001b[0mextend\u001b[0m\u001b[0;34m(\u001b[0m\u001b[0mjob\u001b[0m\u001b[0;34m.\u001b[0m\u001b[0mget\u001b[0m\u001b[0;34m(\u001b[0m\u001b[0;34m)\u001b[0m\u001b[0;34m)\u001b[0m\u001b[0;34m\u001b[0m\u001b[0;34m\u001b[0m\u001b[0m\n",
            "\u001b[0;32m/usr/local/lib/python3.10/dist-packages/joblib/_parallel_backends.py\u001b[0m in \u001b[0;36mwrap_future_result\u001b[0;34m(future, timeout)\u001b[0m\n\u001b[1;32m    565\u001b[0m         AsyncResults.get from multiprocessing.\"\"\"\n\u001b[1;32m    566\u001b[0m         \u001b[0;32mtry\u001b[0m\u001b[0;34m:\u001b[0m\u001b[0;34m\u001b[0m\u001b[0;34m\u001b[0m\u001b[0m\n\u001b[0;32m--> 567\u001b[0;31m             \u001b[0;32mreturn\u001b[0m \u001b[0mfuture\u001b[0m\u001b[0;34m.\u001b[0m\u001b[0mresult\u001b[0m\u001b[0;34m(\u001b[0m\u001b[0mtimeout\u001b[0m\u001b[0;34m=\u001b[0m\u001b[0mtimeout\u001b[0m\u001b[0;34m)\u001b[0m\u001b[0;34m\u001b[0m\u001b[0;34m\u001b[0m\u001b[0m\n\u001b[0m\u001b[1;32m    568\u001b[0m         \u001b[0;32mexcept\u001b[0m \u001b[0mCfTimeoutError\u001b[0m \u001b[0;32mas\u001b[0m \u001b[0me\u001b[0m\u001b[0;34m:\u001b[0m\u001b[0;34m\u001b[0m\u001b[0;34m\u001b[0m\u001b[0m\n\u001b[1;32m    569\u001b[0m             \u001b[0;32mraise\u001b[0m \u001b[0mTimeoutError\u001b[0m \u001b[0;32mfrom\u001b[0m \u001b[0me\u001b[0m\u001b[0;34m\u001b[0m\u001b[0;34m\u001b[0m\u001b[0m\n",
            "\u001b[0;32m/usr/lib/python3.10/concurrent/futures/_base.py\u001b[0m in \u001b[0;36mresult\u001b[0;34m(self, timeout)\u001b[0m\n\u001b[1;32m    451\u001b[0m                     \u001b[0;32mreturn\u001b[0m \u001b[0mself\u001b[0m\u001b[0;34m.\u001b[0m\u001b[0m__get_result\u001b[0m\u001b[0;34m(\u001b[0m\u001b[0;34m)\u001b[0m\u001b[0;34m\u001b[0m\u001b[0;34m\u001b[0m\u001b[0m\n\u001b[1;32m    452\u001b[0m \u001b[0;34m\u001b[0m\u001b[0m\n\u001b[0;32m--> 453\u001b[0;31m                 \u001b[0mself\u001b[0m\u001b[0;34m.\u001b[0m\u001b[0m_condition\u001b[0m\u001b[0;34m.\u001b[0m\u001b[0mwait\u001b[0m\u001b[0;34m(\u001b[0m\u001b[0mtimeout\u001b[0m\u001b[0;34m)\u001b[0m\u001b[0;34m\u001b[0m\u001b[0;34m\u001b[0m\u001b[0m\n\u001b[0m\u001b[1;32m    454\u001b[0m \u001b[0;34m\u001b[0m\u001b[0m\n\u001b[1;32m    455\u001b[0m                 \u001b[0;32mif\u001b[0m \u001b[0mself\u001b[0m\u001b[0;34m.\u001b[0m\u001b[0m_state\u001b[0m \u001b[0;32min\u001b[0m \u001b[0;34m[\u001b[0m\u001b[0mCANCELLED\u001b[0m\u001b[0;34m,\u001b[0m \u001b[0mCANCELLED_AND_NOTIFIED\u001b[0m\u001b[0;34m]\u001b[0m\u001b[0;34m:\u001b[0m\u001b[0;34m\u001b[0m\u001b[0;34m\u001b[0m\u001b[0m\n",
            "\u001b[0;32m/usr/lib/python3.10/threading.py\u001b[0m in \u001b[0;36mwait\u001b[0;34m(self, timeout)\u001b[0m\n\u001b[1;32m    318\u001b[0m         \u001b[0;32mtry\u001b[0m\u001b[0;34m:\u001b[0m    \u001b[0;31m# restore state no matter what (e.g., KeyboardInterrupt)\u001b[0m\u001b[0;34m\u001b[0m\u001b[0;34m\u001b[0m\u001b[0m\n\u001b[1;32m    319\u001b[0m             \u001b[0;32mif\u001b[0m \u001b[0mtimeout\u001b[0m \u001b[0;32mis\u001b[0m \u001b[0;32mNone\u001b[0m\u001b[0;34m:\u001b[0m\u001b[0;34m\u001b[0m\u001b[0;34m\u001b[0m\u001b[0m\n\u001b[0;32m--> 320\u001b[0;31m                 \u001b[0mwaiter\u001b[0m\u001b[0;34m.\u001b[0m\u001b[0macquire\u001b[0m\u001b[0;34m(\u001b[0m\u001b[0;34m)\u001b[0m\u001b[0;34m\u001b[0m\u001b[0;34m\u001b[0m\u001b[0m\n\u001b[0m\u001b[1;32m    321\u001b[0m                 \u001b[0mgotit\u001b[0m \u001b[0;34m=\u001b[0m \u001b[0;32mTrue\u001b[0m\u001b[0;34m\u001b[0m\u001b[0;34m\u001b[0m\u001b[0m\n\u001b[1;32m    322\u001b[0m             \u001b[0;32melse\u001b[0m\u001b[0;34m:\u001b[0m\u001b[0;34m\u001b[0m\u001b[0;34m\u001b[0m\u001b[0m\n",
            "\u001b[0;31mKeyboardInterrupt\u001b[0m: "
          ]
        }
      ]
    },
    {
      "cell_type": "markdown",
      "source": [
        "# **Models Ensembling: Hard Voting**"
      ],
      "metadata": {
        "id": "ps3YNpIn6-L0"
      }
    },
    {
      "cell_type": "code",
      "source": [
        "from sklearn.ensemble import VotingClassifier\n",
        "\n",
        "# Combine the models using VotingClassifier\n",
        "ensemble_model = VotingClassifier(estimators=[\n",
        "    ('rf', rf_model),\n",
        "    ('svm', svm_model),\n",
        "    ('dt', dt_model),\n",
        "    ('lgb', lgb_model),\n",
        "    ('xgb', xgb_model)],\n",
        "    voting='hard')\n",
        "\n",
        "# Train the ensemble model\n",
        "ensemble_model.fit(X_train, y_train)\n",
        "\n",
        "# Predict delivery_mode on the test set\n",
        "y_pred_ensemble = ensemble_model.predict(X_test)\n",
        "\n",
        "# Evaluate the ensemble model\n",
        "test_accuracy_ensemble = accuracy_score(y_test, y_pred_ensemble)\n",
        "print(f'Test accuracy (Ensemble - Hard Voting): {test_accuracy_ensemble}')\n"
      ],
      "metadata": {
        "colab": {
          "base_uri": "https://localhost:8080/"
        },
        "id": "R1-3QEfe0oD-",
        "outputId": "f9f26e7f-b55f-4820-aa51-a65e6b236e96"
      },
      "execution_count": null,
      "outputs": [
        {
          "output_type": "stream",
          "name": "stdout",
          "text": [
            "Test accuracy (Ensemble - Hard Voting): 0.6570247933884298\n"
          ]
        }
      ]
    },
    {
      "cell_type": "code",
      "source": [],
      "metadata": {
        "id": "ExMolzlM3xit"
      },
      "execution_count": null,
      "outputs": []
    }
  ],
  "metadata": {
    "kernelspec": {
      "display_name": "Python 3",
      "language": "python",
      "name": "python3"
    },
    "language_info": {
      "codemirror_mode": {
        "name": "ipython",
        "version": 3
      },
      "file_extension": ".py",
      "mimetype": "text/x-python",
      "name": "python",
      "nbconvert_exporter": "python",
      "pygments_lexer": "ipython3",
      "version": "3.8.3"
    },
    "colab": {
      "provenance": []
    }
  },
  "nbformat": 4,
  "nbformat_minor": 0
}